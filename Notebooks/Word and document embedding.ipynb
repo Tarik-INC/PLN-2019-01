{
 "cells": [
  {
   "cell_type": "code",
   "execution_count": 1,
   "metadata": {
    "scrolled": false
   },
   "outputs": [],
   "source": [
    "from nlputils import lexical\n",
    "from gensim.models import Word2Vec, Doc2Vec\n",
    "from gensim.models.doc2vec import TaggedDocument\n",
    "import os"
   ]
  },
  {
   "cell_type": "code",
   "execution_count": 2,
   "metadata": {},
   "outputs": [
    {
     "name": "stdout",
     "output_type": "stream",
     "text": [
      "showing info https://raw.githubusercontent.com/nltk/nltk_data/gh-pages/index.xml\n"
     ]
    },
    {
     "data": {
      "text/plain": [
       "True"
      ]
     },
     "execution_count": 2,
     "metadata": {},
     "output_type": "execute_result"
    }
   ],
   "source": [
    "import nltk\n",
    "nltk.download()"
   ]
  },
  {
   "cell_type": "code",
   "execution_count": 3,
   "metadata": {
    "scrolled": true
   },
   "outputs": [],
   "source": [
    "normalizer = lexical.Preprocessing()"
   ]
  },
  {
   "cell_type": "code",
   "execution_count": 4,
   "metadata": {},
   "outputs": [],
   "source": [
    "corpora_path = '../Data/corpora'\n",
    "files_hardware = os.listdir('{}/hardware/'.format(corpora_path))\n",
    "files_hardware = ['{}/hardware/{}'.format(corpora_path,f) for f in files_hardware if f != '.DS_Store']\n",
    "files_mobile = os.listdir('{}/mobile_review/'.format(corpora_path))\n",
    "files_mobile = ['{}/mobile_review/{}'.format(corpora_path,f) for f in files_mobile if f != '.DS_Store']"
   ]
  },
  {
   "cell_type": "code",
   "execution_count": 5,
   "metadata": {
    "scrolled": true
   },
   "outputs": [
    {
     "data": {
      "text/plain": [
       "['../Data/corpora/hardware/https:--www_techspot_com-review-1818-sekiro-shadows-die-twice-.txt',\n",
       " '../Data/corpora/hardware/https:--www_techspot_com-review-1730-intel-core-i9-9900k-core-i7-9700k-page4_html.txt',\n",
       " '../Data/corpora/hardware/https:--www_techspot_com-review-1730-intel-core-i9-9900k-core-i7-9700k-.txt',\n",
       " '../Data/corpora/hardware/https:--www_techspot_com-review-1792-geforce-rtx-2070-max-q-laptop-.txt',\n",
       " '../Data/corpora/hardware/https:--www_techspot_com-review-1816-asrock-deskmini-a300-.txt',\n",
       " '../Data/corpora/hardware/https:--www_techspot_com-review-1790-viotek-gft27db-.txt',\n",
       " '../Data/corpora/hardware/https:--www_techspot_com-review-1464-asus-rog-zephyrus-.txt',\n",
       " '../Data/corpora/hardware/https:--www_techspot_com-review-1806-apex-legends-.txt',\n",
       " '../Data/corpora/hardware/https:--www_techspot_com-review-1798-gigabyte-aero-15-x9-.txt',\n",
       " '../Data/corpora/hardware/https:--www_techspot_com-review-1796-best-rtx-2060-graphics-cards-.txt',\n",
       " '../Data/corpora/hardware/https:--www_techspot_com-review-1783-razer-blade-stealth-2019-.txt',\n",
       " '../Data/corpora/hardware/https:--www_techspot_com-review-1776-das-keyboard-4q-.txt',\n",
       " '../Data/corpora/hardware/https:--www_techspot_com-review-1780-geforce-1060-vs-radeon-580-vs-radeon-570-.txt',\n",
       " '../Data/corpora/hardware/https:--www_techspot_com-review-1833-dell-ultrasharp-u4919dw-.txt',\n",
       " '../Data/corpora/hardware/https:--www_techspot_com-review-1831-ray-tracing-geforce-gtx-benchmarks-.txt',\n",
       " '../Data/corpora/hardware/https:--www_techspot_com-review-1789-amd-radeon-vii-.txt',\n",
       " '../Data/corpora/hardware/https:--www_techspot_com-review-1797-nvidia-geforce-gtx-1060-ti-.txt',\n",
       " '../Data/corpora/hardware/https:--www_techspot_com-review-1730-intel-core-i9-9900k-core-i7-9700k-page2_html.txt',\n",
       " '../Data/corpora/hardware/https:--www_techspot_com-review-1808-geforce-gtx-1660-ti-vs-rtx-2060-vs-gtx-980-ti-.txt',\n",
       " '../Data/corpora/hardware/https:--www_techspot_com-review-1829-intel-core-i5-9400f-vs-amd-ryzen-5-2600x-.txt',\n",
       " '../Data/corpora/hardware/https:--www_techspot_com-review-1800-anthem-.txt',\n",
       " '../Data/corpora/hardware/https:--www_techspot_com-reviews-.txt',\n",
       " '../Data/corpora/hardware/https:--www_techspot_com-review-1777-geforce-1050ti-vs-radeon-570-.txt',\n",
       " '../Data/corpora/hardware/https:--www_techspot_com-review-1730-intel-core-i9-9900k-core-i7-9700k-page5_html.txt',\n",
       " '../Data/corpora/hardware/https:--www_techspot_com-review-1819-geforce-gtx-1660-vs-rtx-2060-vs-gtx-960-.txt',\n",
       " '../Data/corpora/hardware/https:--www_techspot_com-review-1813-geforce-gtx-1660-mega-benchmark-.txt',\n",
       " '../Data/corpora/hardware/https:--www_techspot_com-review-1604-intel-core-i7-8750h-.txt',\n",
       " '../Data/corpora/hardware/https:--www_techspot_com-review-1781-geforce-rtx-2060-mega-benchmark-.txt',\n",
       " '../Data/corpora/hardware/https:--www_techspot_com-review-1744-core-i9-9900k-round-two-.txt',\n",
       " '../Data/corpora/hardware/https:--www_techspot_com-review-1730-intel-core-i9-9900k-core-i7-9700k-page3_html.txt',\n",
       " '../Data/corpora/hardware/https:--www_techspot_com-review-1815-msi-gs75-stealth-.txt',\n",
       " '../Data/corpora/hardware/https:--www_techspot_com-review-1795-metro-exodus-benchmarks-.txt',\n",
       " '../Data/corpora/hardware/https:--www_techspot_com-review-1784-resident-evil-2-benchmarks-.txt',\n",
       " '../Data/corpora/hardware/https:--www_techspot_com-review-1782-intel-whiskey-lake-core-i7-.txt',\n",
       " '../Data/corpora/hardware/https:--www_techspot_com-review-1820-alienware-m15-.txt',\n",
       " '../Data/corpora/hardware/https:--www_techspot_com-review-1825-ryzen-2600x-vs-1700-.txt',\n",
       " '../Data/corpora/hardware/https:--www_techspot_com-review-1823-fortnite-battle-royale-.txt',\n",
       " '../Data/corpora/hardware/https:--www_techspot_com-review-1812-geforce-rtx-2080-max-q-laptop-.txt',\n",
       " '../Data/corpora/hardware/https:--www_techspot_com-review-1791-amd-radeon-vii-mega-benchmark-.txt',\n",
       " '../Data/corpora/hardware/https:--www_techspot_com-review-1804-geforce-rtx-2060-laptop-.txt',\n",
       " '../Data/corpora/hardware/https:--www_techspot_com-review-1822-geforce-gtx-970-vs-radeon-r9-290-.txt',\n",
       " '../Data/corpora/hardware/https:--www_techspot_com-review-1615-msi-gs65-stealth-thin-.txt',\n",
       " '../Data/corpora/hardware/https:--www_techspot_com-review-1811-nvidia-geforce-gtx-1060-.txt',\n",
       " '../Data/corpora/hardware/https:--www_techspot_com-review-1730-intel-core-i9-9900k-core-i7-9700k-page6_html.txt',\n",
       " '../Data/corpora/hardware/https:--www_techspot_com-review-1701-geforce-rtx-2080-.txt',\n",
       " '../Data/corpora/hardware/https:--www_techspot_com-review-1807-asus-rog-strix-scar2-rtx-laptop-.txt',\n",
       " '../Data/corpora/hardware/https:--www_techspot_com-review-1799-geforce-gtx-1660-mega-benchmark-.txt',\n",
       " '../Data/corpora/hardware/https:--www_techspot_com-review-1817-asus-zenbook-pro-14-.txt']"
      ]
     },
     "execution_count": 5,
     "metadata": {},
     "output_type": "execute_result"
    }
   ],
   "source": [
    "files_hardware"
   ]
  },
  {
   "cell_type": "code",
   "execution_count": 6,
   "metadata": {
    "scrolled": true
   },
   "outputs": [
    {
     "data": {
      "text/plain": [
       "['../Data/corpora/mobile_review/https:--www_theverge_com-2019-2-1-18204980-honor-view-20-review-oneplus-competition.txt',\n",
       " '../Data/corpora/mobile_review/https:--www_theverge_com-2018-10-24-18008780-huawei-mate-20-pro-review-kirin-980-processor-triple-leica-camera.txt',\n",
       " '../Data/corpora/mobile_review/https:--www_theverge_com-2018-6-27-17504714-blackberry-key2-review-smartphone-android.txt',\n",
       " '../Data/corpora/mobile_review/https:--www_theverge_com-2018-10-15-17973484-google-pixel-3-xl-review-camera-features-screen-battery-price-photos.txt',\n",
       " '../Data/corpora/mobile_review/https:--www_theverge_com-2019-1-29-18201055-xiaomi-mi-mix-3-slider-no-notch-phone-design.txt',\n",
       " '../Data/corpora/mobile_review/https:--www_theverge_com-2018-8-17-17703434-samsung-galaxy-note-9-review-battery-specs-price-pen-stylus.txt',\n",
       " '../Data/corpora/mobile_review/https:--www_theverge_com-2018-10-24-18008780-huawei-mate-20-pro-review-kirin-980-processor-triple-leica-camera#comments.txt',\n",
       " '../Data/corpora/mobile_review/https:--www_theverge_com-phone-review.txt',\n",
       " '../Data/corpora/mobile_review/https:--www_theverge_com-2019-3-7-18254348-the-best-chinese-phones-not-available-us.txt',\n",
       " '../Data/corpora/mobile_review/https:--www_theverge_com-2019-4-19-18498904-samsung-galaxy-fold-review-screen-broken-issue-durability-foldable-phone-video-performance-price.txt',\n",
       " '../Data/corpora/mobile_review/https:--www_theverge_com-2019-4-19-18507824-samsung-galaxy-fold-phone-breaking-vergecast.txt',\n",
       " '../Data/corpora/mobile_review/https:--www_theverge_com-2019-3-12-18260351-samsung-galaxy-s10-review-specs-price-features.txt',\n",
       " '../Data/corpora/mobile_review/https:--www_theverge_com-2018-10-29-18037414-oneplus-6t-review-price-specs-battery-life-camera-display-fingerprint-sensor#comments.txt',\n",
       " '../Data/corpora/mobile_review/https:--www_theverge_com-2018-6-27-17504714-blackberry-key2-review-smartphone-android#comments.txt',\n",
       " '../Data/corpora/mobile_review/https:--www_theverge_com-2018-7-30-17627256-motorola-moto-z3-play-review-price-specs#comments.txt',\n",
       " '../Data/corpora/mobile_review/https:--www_theverge_com-2018-6-12-17451622-htc-u12-plus-review-specs-price-android-smartphone.txt',\n",
       " '../Data/corpora/mobile_review/https:--www_theverge_com-2018-10-18-17718038-best-android-phones-user-guide-how-to-pixel-galaxy-moto-htc.txt',\n",
       " '../Data/corpora/mobile_review/https:--www_theverge_com-2018-10-29-18027782-red-hydrogen-one-review-all-hype#comments.txt',\n",
       " '../Data/corpora/mobile_review/https:--www_theverge_com-2019-4-9-18301982-lg-g8-thinq-review-android-phone-snapdragon-855-6-gb-ram-z-camera-sensor.txt',\n",
       " '../Data/corpora/mobile_review/https:--www_theverge_com-2018-10-29-18027782-red-hydrogen-one-review-all-hype.txt',\n",
       " '../Data/corpora/mobile_review/https:--www_theverge_com-2019-2-21-18230041-samsung-galaxy-s10-vs-s8-s9-upgrade-specs-price-comparison-camera.txt',\n",
       " '../Data/corpora/mobile_review/https:--www_theverge_com-2019-3-27-18282726-sony-xperia-10-review-price-specs-features-performance.txt',\n",
       " '../Data/corpora/mobile_review/https:--www_theverge_com-2018-10-3-17933558-lg-v40-thinq-review-cameras-5-features-battery-screen-photo-quality#comments.txt',\n",
       " '../Data/corpora/mobile_review/https:--www_theverge_com-2019-4-17-18410833-microsoft-surface-hub-2-price-size-specs-features-hands-on-video.txt',\n",
       " '../Data/corpora/mobile_review/https:--www_theverge_com-2018-10-29-18037414-oneplus-6t-review-price-specs-battery-life-camera-display-fingerprint-sensor.txt',\n",
       " '../Data/corpora/mobile_review/https:--www_theverge_com-2018-8-22-17760932-xiaomi-pocophone-f1-low-price-high-end-processor#comments.txt',\n",
       " '../Data/corpora/mobile_review/https:--www_theverge_com-2019-3-27-18282726-sony-xperia-10-review-price-specs-features-performance#comments.txt',\n",
       " '../Data/corpora/mobile_review/https:--www_theverge_com-2019-2-6-18212311-palm-phone-review-time-well-spent-life-mode-lite-verizon.txt',\n",
       " '../Data/corpora/mobile_review/https:--www_theverge_com-2018-8-13-17682060-motorola-moto-z3-phone-review-specs-price#comments.txt',\n",
       " '../Data/corpora/mobile_review/https:--www_theverge_com-2019-1-29-18201055-xiaomi-mi-mix-3-slider-no-notch-phone-design#comments.txt',\n",
       " '../Data/corpora/mobile_review/https:--www_theverge_com-2018-10-23-18011306-apple-iphone-xr-review-camera-screen-battery-price#comments.txt',\n",
       " '../Data/corpora/mobile_review/https:--www_theverge_com-2018-9-18-17871816-apple-iphone-xs-max-review-camera-processor-battery-price#comments.txt',\n",
       " '../Data/corpora/mobile_review/https:--www_theverge_com-2019-3-7-18254348-the-best-chinese-phones-not-available-us#comments.txt',\n",
       " '../Data/corpora/mobile_review/https:--www_theverge_com-2019-1-6-18168287-honor-10-lite-review-smartphone-specs#comments.txt',\n",
       " '../Data/corpora/mobile_review/https:--www_theverge_com-2019-1-6-18168287-honor-10-lite-review-smartphone-specs.txt',\n",
       " '../Data/corpora/mobile_review/https:--www_theverge_com-2019-2-21-18230041-samsung-galaxy-s10-vs-s8-s9-upgrade-specs-price-comparison-camera#comments.txt',\n",
       " '../Data/corpora/mobile_review/https:--www_theverge_com-2019-4-10-18304664-motorola-moto-g7-power-play-review-budget-affordable-android-phones#comments.txt',\n",
       " '../Data/corpora/mobile_review/https:--www_theverge_com-2019-2-6-18212311-palm-phone-review-time-well-spent-life-mode-lite-verizon#comments.txt',\n",
       " '../Data/corpora/mobile_review/https:--www_theverge_com-phone-review-2017-8-24-16182832-sony-xperia-xz-premium-review-price#comments.txt',\n",
       " '../Data/corpora/mobile_review/https:--www_theverge_com-2019-4-16-18308523-kickstater-indiegogo-crowdfund-gadget-never-shipped.txt',\n",
       " '../Data/corpora/mobile_review/https:--www_theverge_com-2018-7-30-17627256-motorola-moto-z3-play-review-price-specs.txt',\n",
       " '../Data/corpora/mobile_review/https:--www_theverge_com-phone-review-2017-8-24-16182832-sony-xperia-xz-premium-review-price.txt',\n",
       " '../Data/corpora/mobile_review/https:--www_theverge_com-2018-7-12-17562162-moto-g6-play-plus-review-2018-budget-phones-motorola#comments.txt',\n",
       " '../Data/corpora/mobile_review/https:--www_theverge_com-2018-12-3-18120022-motorola-one-nokia-71-phone-specs-price-review.txt',\n",
       " '../Data/corpora/mobile_review/https:--www_theverge_com-phone-review-archives.txt',\n",
       " '../Data/corpora/mobile_review/https:--www_theverge_com-2018-9-21-17828022-iphone-user-guide-how-to-ios-tips.txt',\n",
       " '../Data/corpora/mobile_review/https:--www_theverge_com-2019-4-10-18285123-huawei-p30-pro-review-periscope-camera-zoom-android-phone#comments.txt',\n",
       " '../Data/corpora/mobile_review/https:--www_theverge_com-2018-10-15-17973484-google-pixel-3-xl-review-camera-features-screen-battery-price-photos#comments.txt',\n",
       " '../Data/corpora/mobile_review/https:--www_theverge_com-2019-4-21-18509919-samsung-reportedly-postponed-the-galaxy-folds-launch-china-shanghai-hong-kong.txt',\n",
       " '../Data/corpora/mobile_review/https:--www_theverge_com-2018-10-23-18011306-apple-iphone-xr-review-camera-screen-battery-price.txt',\n",
       " '../Data/corpora/mobile_review/https:--www_theverge_com-2018-8-27-17783866-oppo-find-x-review-china-smartphone#comments.txt',\n",
       " '../Data/corpora/mobile_review/https:--www_theverge_com-2018-10-22-18001100-razer-phone-2-review-gaming-chroma-features-light-up-price-specs#comments.txt',\n",
       " '../Data/corpora/mobile_review/https:--www_theverge_com-2018-7-20-17591130-editors-choice-lg-g7-thinq-phone-review#comments.txt']"
      ]
     },
     "execution_count": 6,
     "metadata": {},
     "output_type": "execute_result"
    }
   ],
   "source": [
    "files_mobile"
   ]
  },
  {
   "cell_type": "markdown",
   "metadata": {},
   "source": [
    "# Word2Vec "
   ]
  },
  {
   "cell_type": "code",
   "execution_count": 24,
   "metadata": {},
   "outputs": [
    {
     "name": "stdout",
     "output_type": "stream",
     "text": [
      "Number of sentences: 49\n"
     ]
    }
   ],
   "source": [
    "all_sentences = []\n",
    "for file in files_hardware:\n",
    "    with open(file, 'r') as text_file:\n",
    "        lines = text_file.readlines()\n",
    "        for line in lines:\n",
    "            line = line.lower()\n",
    "            line = normalizer.remove_punctuation(line)\n",
    "            sentences = normalizer.tokenize_sentences(line)\n",
    "            sentences = [normalizer.tokenize_words(sent) for sent in sentences]\n",
    "            all_sentences.extend(sentences)\n",
    "\n",
    "print(\"Number of sentences: {}\".format(len(all_sentences)))\n"
   ]
  },
  {
   "cell_type": "markdown",
   "metadata": {},
   "source": [
    "## Training"
   ]
  },
  {
   "cell_type": "code",
   "execution_count": 27,
   "metadata": {},
   "outputs": [],
   "source": [
    "w2vmodel_hardware = Word2Vec(all_sentences, size=200, window=5, min_count=3, workers=4)"
   ]
  },
  {
   "cell_type": "code",
   "execution_count": 31,
   "metadata": {},
   "outputs": [
    {
     "data": {
      "text/plain": [
       "[('design', 0.9999434947967529),\n",
       " ('my', 0.999943196773529),\n",
       " ('these', 0.9999415874481201),\n",
       " ('mode', 0.9999385476112366),\n",
       " ('some', 0.9999382495880127),\n",
       " ('display', 0.9999355673789978),\n",
       " ('use', 0.9999344348907471),\n",
       " ('cpu', 0.9999325275421143),\n",
       " ('those', 0.9999321699142456),\n",
       " ('monitor', 0.9999307990074158)]"
      ]
     },
     "execution_count": 31,
     "metadata": {},
     "output_type": "execute_result"
    }
   ],
   "source": [
    "w2vmodel_hardware.wv.most_similar('intel')"
   ]
  },
  {
   "cell_type": "code",
   "execution_count": 35,
   "metadata": {},
   "outputs": [
    {
     "data": {
      "text/plain": [
       "[('very', 0.9999567866325378),\n",
       " ('without', 0.9999515414237976),\n",
       " ('asus', 0.9999510049819946),\n",
       " ('any', 0.9999507665634155),\n",
       " ('pretty', 0.9999502897262573),\n",
       " ('makes', 0.9999496936798096),\n",
       " ('back', 0.9999485015869141),\n",
       " ('system', 0.9999474883079529),\n",
       " ('would', 0.9999467134475708),\n",
       " ('world', 0.999946653842926),\n",
       " ('make', 0.9999461770057678),\n",
       " ('me', 0.9999457597732544),\n",
       " ('few', 0.9999452233314514),\n",
       " ('like', 0.9999446868896484),\n",
       " ('option', 0.9999443292617798),\n",
       " ('power', 0.9999440908432007),\n",
       " ('from', 0.9999435544013977),\n",
       " ('good', 0.9999435544013977),\n",
       " ('stealth', 0.9999420642852783),\n",
       " ('cooler', 0.9999419450759888)]"
      ]
     },
     "execution_count": 35,
     "metadata": {},
     "output_type": "execute_result"
    }
   ],
   "source": [
    "w2vmodel_hardware.wv.most_similar(positive=['keyboard', 'amd'], topn=20)"
   ]
  },
  {
   "cell_type": "code",
   "execution_count": 37,
   "metadata": {},
   "outputs": [
    {
     "data": {
      "text/plain": [
       "array([ 0.25941664,  0.3181834 ,  0.11482545, -0.09504459,  0.08511408,\n",
       "       -0.2869633 , -0.1742875 ,  0.11020834, -0.39720133,  0.12936336,\n",
       "       -0.16156577, -0.04520309,  0.45679638, -0.02895455,  0.03971253,\n",
       "       -0.23004577, -0.14694859,  0.10165428, -0.3093612 , -0.07354913,\n",
       "        0.06499884,  0.13591798, -0.10672923,  0.10695191,  0.07098203,\n",
       "        0.18780541,  0.44408515,  0.15814644,  0.2156318 ,  0.05472748,\n",
       "        0.11013218, -0.06004142, -0.01774192, -0.05597117, -0.05160624,\n",
       "        0.17217791, -0.06414365,  0.2498222 , -0.05470764, -0.07191315,\n",
       "       -0.35092056,  0.33179674, -0.01447811,  0.09055028, -0.15695438,\n",
       "       -0.06173717, -0.22066326, -0.15142047,  0.4238056 ,  0.01106286,\n",
       "        0.01527473,  0.17480962, -0.07958029, -0.00104474, -0.05786234,\n",
       "        0.03626851,  0.31995052, -0.07225306,  0.31017235, -0.10795493,\n",
       "        0.22598709, -0.19042943,  0.11060935,  0.05650537, -0.21505651,\n",
       "       -0.10069641,  0.02278062,  0.08159761, -0.2134066 ,  0.02371596,\n",
       "       -0.06827722, -0.04461012,  0.11679263,  0.25374553, -0.15889244,\n",
       "        0.04034952,  0.17038336, -0.23809077, -0.00483577, -0.06736868,\n",
       "        0.05552882,  0.13352676, -0.10940206,  0.0833746 , -0.23406915,\n",
       "        0.11007617,  0.08975951, -0.22090176, -0.15316023,  0.10236486,\n",
       "        0.09051432,  0.26069844,  0.15239462,  0.21449478, -0.0781825 ,\n",
       "       -0.2950847 , -0.17195648, -0.64358956, -0.28178883,  0.12250336,\n",
       "        0.46128768,  0.12993932,  0.10860237,  0.1692361 ,  0.05746482,\n",
       "        0.01403402, -0.12783407,  0.24698988, -0.18504164,  0.00226441,\n",
       "       -0.02919966,  0.12714727, -0.0637897 , -0.00506666, -0.01013217,\n",
       "        0.1484483 ,  0.14645697, -0.16139734,  0.19591047,  0.3906921 ,\n",
       "       -0.36768767, -0.08994859,  0.04125803,  0.20397142,  0.0079149 ,\n",
       "       -0.3492749 ,  0.3809214 ,  0.13850176, -0.13736098, -0.06792639,\n",
       "       -0.38284692,  0.21910082, -0.1474308 ,  0.00844647,  0.28701398,\n",
       "        0.18150258,  0.60955906,  0.00371083, -0.29497045, -0.33523905,\n",
       "       -0.3260845 , -0.13568822, -0.08428426,  0.05335715, -0.3416678 ,\n",
       "        0.00128494, -0.20722613,  0.12350379,  0.0799727 , -0.01550757,\n",
       "        0.41798627, -0.2630978 , -0.3718342 ,  0.09267766,  0.10637449,\n",
       "       -0.12577151,  0.11176917, -0.12482528, -0.17214432,  0.28438202,\n",
       "        0.07232247,  0.24571797, -0.13812055, -0.19663034, -0.05800749,\n",
       "        0.08433691,  0.1145017 ,  0.04829121, -0.10204111, -0.02557239,\n",
       "       -0.23175204,  0.14803495,  0.11837347, -0.01916046, -0.08936418,\n",
       "       -0.11254109,  0.0891382 , -0.04583775, -0.19102262,  0.29321757,\n",
       "       -0.19747788,  0.00927012, -0.14272013, -0.09025701,  0.19162768,\n",
       "        0.11878487, -0.3574414 , -0.17351139,  0.05943343,  0.06950325,\n",
       "       -0.05281717,  0.11384542,  0.07856008, -0.24759269, -0.257459  ,\n",
       "        0.11307115,  0.04205156,  0.07445182, -0.01037869, -0.1255853 ],\n",
       "      dtype=float32)"
      ]
     },
     "execution_count": 37,
     "metadata": {},
     "output_type": "execute_result"
    }
   ],
   "source": [
    "w2vmodel_hardware.wv.get_vector('desktop')"
   ]
  },
  {
   "cell_type": "code",
   "execution_count": null,
   "metadata": {},
   "outputs": [],
   "source": []
  }
 ],
 "metadata": {
  "kernelspec": {
   "display_name": "Python 3",
   "language": "python",
   "name": "python3"
  },
  "language_info": {
   "codemirror_mode": {
    "name": "ipython",
    "version": 3
   },
   "file_extension": ".py",
   "mimetype": "text/x-python",
   "name": "python",
   "nbconvert_exporter": "python",
   "pygments_lexer": "ipython3",
   "version": "3.5.2"
  }
 },
 "nbformat": 4,
 "nbformat_minor": 2
}
