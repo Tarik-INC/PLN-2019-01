{
 "cells": [
  {
   "cell_type": "code",
   "execution_count": 1,
   "metadata": {},
   "outputs": [],
   "source": [
    "import urllib3\n",
    "import re\n",
    "from bs4 import BeautifulSoup\n",
    "import os\n",
    "import justext"
   ]
  },
  {
   "cell_type": "code",
   "execution_count": 2,
   "metadata": {},
   "outputs": [],
   "source": [
    "urllib3.disable_warnings(urllib3.exceptions.InsecureRequestWarning)\n",
    "user_agent = {'user-agent': 'Mozilla/5.0 (Windows NT 6.1; Win64; x64)'}\n",
    "\n",
    "http = urllib3.PoolManager(10, headers=user_agent)\n",
    "\n",
    "\n",
    "class Crawler:\n",
    "    \n",
    "    def __init__(self, corpus_path, max_files, seed_url, url_pattern):\n",
    "        self.corpus_path = corpus_path\n",
    "        self.max_files = max_files\n",
    "        self.seed_url = seed_url\n",
    "        self.url_pattern = url_pattern\n",
    "        self.visited_links = {}\n",
    "        self.to_be_visited = []\n",
    "        \n",
    "        if not os.path.exists(self.corpus_path):\n",
    "            os.makedirs(self.corpus_path)\n",
    "        \n",
    "    def crawl(self):\n",
    "        first_urls = self.get_page(self.seed_url)\n",
    "        self.add_links(first_urls)\n",
    "        next_link = self.get_next_link()\n",
    "        \n",
    "        file_counter = 1\n",
    "        while next_link and file_counter < self.max_files:\n",
    "            links = self.get_page(next_link)\n",
    "            self.add_links(links)\n",
    "            next_link = self.get_next_link()\n",
    "            file_counter += 1\n",
    "    \n",
    "    def get_page(self, url):\n",
    "        print(\"getting page {}\".format(url))\n",
    "        response = http.request('GET', url)\n",
    "\n",
    "        # store text content\n",
    "        paragraphs = justext.justext(response.data, justext.get_stoplist(\"Portuguese\"))\n",
    "        with open(\"{}/{}.txt\".format(self.corpus_path, url.replace(\".\", \"_\").replace(\"/\",\"-\")), \"w\") as output_file:\n",
    "            for paragraph in paragraphs:\n",
    "                if not paragraph.is_boilerplate:\n",
    "                    output_file.write(paragraph.text)\n",
    "        \n",
    "        # get links\n",
    "        soup = BeautifulSoup(response.data, 'html.parser')\n",
    "        links = [link.get('href') for link in soup.findAll('a', attrs={'href': re.compile(self.url_pattern)})]\n",
    "\n",
    "        return links\n",
    "\n",
    "    def add_links(self, links):\n",
    "        links = list(set(links))\n",
    "        self.to_be_visited.extend([link for link in links if link not in self.visited_links])\n",
    "\n",
    "    def get_next_link(self):\n",
    "        next_link = self.to_be_visited.pop(0)\n",
    "        self.visited_links[next_link] = None\n",
    "        return next_link"
   ]
  },
  {
   "cell_type": "code",
   "execution_count": 3,
   "metadata": {},
   "outputs": [],
   "source": [
    "crawler_tecnologia = Crawler(\"data/corpora/tecnologia\", 50, \"https://tecnoblog.net/281950/\", \"^https://tecnoblog\\.net/\\d+\")\n",
    "crawler_politica = Crawler(\"data/corpora/politica\", 50, \"http://blogs.opovo.com.br/politica/\",\n",
    "                           \"^http://blogs\\.opovo\\.com\\.br/politica/\\d+\")"
   ]
  },
  {
   "cell_type": "code",
   "execution_count": 4,
   "metadata": {
    "scrolled": true
   },
   "outputs": [
    {
     "name": "stdout",
     "output_type": "stream",
     "text": [
      "getting page http://blogs.opovo.com.br/politica/\n",
      "getting page http://blogs.opovo.com.br/politica/2019/04/10/jaques-wagner-diz-que-estilo-do-ciro-nao-ajuda-e-que-ex-candidato-tem-ciume/\n",
      "getting page http://blogs.opovo.com.br/politica/2019/04/11/assembleia-do-rio-de-janeiro-aprova-porte-de-arma-para-deputados-estaduais/\n",
      "getting page http://blogs.opovo.com.br/politica/2019/04/09/eduardo-bismarck-denuncia-deputado-por-estar-armado-na-ccj-da-camara/\n",
      "getting page http://blogs.opovo.com.br/politica/2019/04/08/quem-e-o-novo-ministro-da-educacao-de-jair-bolsonaro/\n",
      "getting page http://blogs.opovo.com.br/politica/2019/04/10/novo-ministro-debocha-de-cid-em-cerimonia-esse-ficou-menos-tempo-que-o-velez/\n",
      "getting page http://blogs.opovo.com.br/politica/2019/04/11/deputado-do-psl-que-quer-proibir-games-violentos-defende-liberar-armas/\n",
      "getting page http://blogs.opovo.com.br/politica/2019/04/10/jaques-wagner-diz-que-estilo-do-ciro-nao-ajuda-e-que-ex-candidato-tem-ciume/#respond\n",
      "getting page http://blogs.opovo.com.br/politica/2019/04/09/projeto-regula-jogos-eletronicos-como-esporte-e-gamers-como-atletas/\n",
      "getting page http://blogs.opovo.com.br/politica/2019/04/08/analise-escolha-de-olavista-para-o-mec-pode-ampliar-desgaste-com-militares/\n",
      "getting page http://blogs.opovo.com.br/politica/2019/04/10/novo-ministro-debocha-de-cid-em-cerimonia-esse-ficou-menos-tempo-que-o-velez/#respond\n",
      "getting page http://blogs.opovo.com.br/politica/2019/04/09/eduardo-bismarck-denuncia-deputado-por-estar-armado-na-ccj-da-camara/#respond\n",
      "getting page http://blogs.opovo.com.br/politica/2019/04/09/camilo-acusa-theophilo-de-usar-episodio-de-maracanau-para-fazer-politicagem-baixa/#respond\n",
      "getting page http://blogs.opovo.com.br/politica/2019/04/09/deputado-cearense-quer-convocar-novo-ministro-da-educacao-para-prestar-esclarecimentos/\n",
      "getting page http://blogs.opovo.com.br/politica/2019/04/09/deputado-cearense-quer-convocar-novo-ministro-da-educacao-para-prestar-esclarecimentos/#respond\n",
      "getting page http://blogs.opovo.com.br/politica/2019/04/08/quem-e-o-novo-ministro-da-educacao-de-jair-bolsonaro/#respond\n",
      "getting page http://blogs.opovo.com.br/politica/2019/04/09/projeto-regula-jogos-eletronicos-como-esporte-e-gamers-como-atletas/#respond\n",
      "getting page http://blogs.opovo.com.br/politica/2019/04/08/analise-escolha-de-olavista-para-o-mec-pode-ampliar-desgaste-com-militares/#respond\n",
      "getting page http://blogs.opovo.com.br/politica/2019/04/11/deputado-do-psl-que-quer-proibir-games-violentos-defende-liberar-armas/#respond\n",
      "getting page http://blogs.opovo.com.br/politica/2019/04/11/assembleia-do-rio-de-janeiro-aprova-porte-de-arma-para-deputados-estaduais/#respond\n",
      "getting page http://blogs.opovo.com.br/politica/2019/04/09/camilo-acusa-theophilo-de-usar-episodio-de-maracanau-para-fazer-politicagem-baixa/\n",
      "getting page http://blogs.opovo.com.br/politica/2019/04/10/jaques-wagner-diz-que-estilo-do-ciro-nao-ajuda-e-que-ex-candidato-tem-ciume/#comment-33128\n",
      "getting page http://blogs.opovo.com.br/politica/2019/04/10/jaques-wagner-diz-que-estilo-do-ciro-nao-ajuda-e-que-ex-candidato-tem-ciume/#respond\n",
      "getting page http://blogs.opovo.com.br/politica/2019/02/07/ciro-e-vaiado-em-evento-da-une-apos-criticar-lula/\n",
      "getting page http://blogs.opovo.com.br/politica/2019/04/10/jaques-wagner-diz-que-estilo-do-ciro-nao-ajuda-e-que-ex-candidato-tem-ciume/#comment-33125\n",
      "getting page http://blogs.opovo.com.br/politica/2019/04/10/jaques-wagner-diz-que-estilo-do-ciro-nao-ajuda-e-que-ex-candidato-tem-ciume/#comment-33170\n",
      "getting page http://blogs.opovo.com.br/politica/2019/04/10/jaques-wagner-diz-que-estilo-do-ciro-nao-ajuda-e-que-ex-candidato-tem-ciume/#comment-33124\n",
      "getting page http://blogs.opovo.com.br/politica/2017/12/14/decisao-judicial-repercute-assembleia/\n",
      "getting page http://blogs.opovo.com.br/politica/2019/04/11/assembleia-do-rio-de-janeiro-aprova-porte-de-arma-para-deputados-estaduais/#comment-33167\n",
      "getting page http://blogs.opovo.com.br/politica/2017/09/26/metade-dos-cearenses-vota-contra-temer/\n",
      "getting page http://blogs.opovo.com.br/politica/2017/10/19/cearenses-votam-favor-de-temer-na-ccj/\n",
      "getting page http://blogs.opovo.com.br/politica/2019/04/11/assembleia-do-rio-de-janeiro-aprova-porte-de-arma-para-deputados-estaduais/#respond\n",
      "getting page http://blogs.opovo.com.br/politica/2019/04/09/eduardo-bismarck-denuncia-deputado-por-estar-armado-na-ccj-da-camara/#comment-32974\n",
      "getting page http://blogs.opovo.com.br/politica/2019/04/09/eduardo-bismarck-denuncia-deputado-por-estar-armado-na-ccj-da-camara/#comment-32998\n",
      "getting page http://blogs.opovo.com.br/politica/2019/04/09/eduardo-bismarck-denuncia-deputado-por-estar-armado-na-ccj-da-camara/#comment-32989\n",
      "getting page http://blogs.opovo.com.br/politica/2019/04/09/eduardo-bismarck-denuncia-deputado-por-estar-armado-na-ccj-da-camara/#comment-33036\n",
      "getting page http://blogs.opovo.com.br/politica/2019/04/09/eduardo-bismarck-denuncia-deputado-por-estar-armado-na-ccj-da-camara/#comment-33035\n",
      "getting page http://blogs.opovo.com.br/politica/2019/04/09/eduardo-bismarck-denuncia-deputado-por-estar-armado-na-ccj-da-camara/#respond\n",
      "getting page http://blogs.opovo.com.br/politica/2019/04/09/eduardo-bismarck-denuncia-deputado-por-estar-armado-na-ccj-da-camara/#comment-33032\n",
      "getting page http://blogs.opovo.com.br/politica/2019/04/09/eduardo-bismarck-denuncia-deputado-por-estar-armado-na-ccj-da-camara/#comment-33090\n",
      "getting page http://blogs.opovo.com.br/politica/2019/04/09/eduardo-bismarck-denuncia-deputado-por-estar-armado-na-ccj-da-camara/#comment-32973\n",
      "getting page http://blogs.opovo.com.br/politica/2019/04/09/eduardo-bismarck-denuncia-deputado-por-estar-armado-na-ccj-da-camara/#comment-33027\n",
      "getting page http://blogs.opovo.com.br/politica/2019/04/08/quem-e-o-novo-ministro-da-educacao-de-jair-bolsonaro/#respond\n",
      "getting page http://blogs.opovo.com.br/politica/2019/04/10/novo-ministro-debocha-de-cid-em-cerimonia-esse-ficou-menos-tempo-que-o-velez/#comment-33103\n",
      "getting page http://blogs.opovo.com.br/politica/2019/03/13/advogados-questionam-na-justica-se-houve-ou-nao-quebra-de-sigilos-de-camilo-e-cid-gomes/\n",
      "getting page http://blogs.opovo.com.br/politica/2019/03/01/justica-federal-quebra-sigilos-de-camilo-e-cid-gomes/\n",
      "getting page http://blogs.opovo.com.br/politica/2019/04/10/novo-ministro-debocha-de-cid-em-cerimonia-esse-ficou-menos-tempo-que-o-velez/#comment-33138\n",
      "getting page http://blogs.opovo.com.br/politica/2019/04/10/novo-ministro-debocha-de-cid-em-cerimonia-esse-ficou-menos-tempo-que-o-velez/#comment-33102\n",
      "getting page http://blogs.opovo.com.br/politica/2019/04/10/novo-ministro-debocha-de-cid-em-cerimonia-esse-ficou-menos-tempo-que-o-velez/#comment-33130\n",
      "getting page http://blogs.opovo.com.br/politica/2019/04/10/novo-ministro-debocha-de-cid-em-cerimonia-esse-ficou-menos-tempo-que-o-velez/#comment-33136\n"
     ]
    }
   ],
   "source": [
    "crawler_politica.crawl()"
   ]
  },
  {
   "cell_type": "code",
   "execution_count": 11,
   "metadata": {},
   "outputs": [],
   "source": [
    "crawler_hardware = Crawler(os.path.join(os.pardir, \"Data/corpora/hardware\"), 50, \"https://www.techspot.com/reviews/\", \"^https://www.techspot\\.com/review/\\d+\")"
   ]
  },
  {
   "cell_type": "code",
   "execution_count": 10,
   "metadata": {},
   "outputs": [
    {
     "name": "stdout",
     "output_type": "stream",
     "text": [
      "getting page https://www.techspot.com/reviews/\n",
      "getting page https://www.techspot.com/review/1776-das-keyboard-4q/\n",
      "getting page https://www.techspot.com/review/1777-geforce-1050ti-vs-radeon-570/\n",
      "getting page https://www.techspot.com/review/1784-resident-evil-2-benchmarks/\n",
      "getting page https://www.techspot.com/review/1781-geforce-rtx-2060-mega-benchmark/\n",
      "getting page https://www.techspot.com/review/1807-asus-rog-strix-scar2-rtx-laptop/\n",
      "getting page https://www.techspot.com/review/1811-nvidia-geforce-gtx-1060/\n",
      "getting page https://www.techspot.com/review/1817-asus-zenbook-pro-14/\n",
      "getting page https://www.techspot.com/review/1815-msi-gs75-stealth/\n",
      "getting page https://www.techspot.com/review/1789-amd-radeon-vii/\n",
      "getting page https://www.techspot.com/review/1813-geforce-gtx-1660-mega-benchmark/\n",
      "getting page https://www.techspot.com/review/1799-geforce-gtx-1660-mega-benchmark/\n",
      "getting page https://www.techspot.com/review/1791-amd-radeon-vii-mega-benchmark/\n",
      "getting page https://www.techspot.com/review/1792-geforce-rtx-2070-max-q-laptop/\n",
      "getting page https://www.techspot.com/review/1812-geforce-rtx-2080-max-q-laptop/\n",
      "getting page https://www.techspot.com/review/1823-fortnite-battle-royale/\n",
      "getting page https://www.techspot.com/review/1730-intel-core-i9-9900k-core-i7-9700k/\n",
      "getting page https://www.techspot.com/review/1782-intel-whiskey-lake-core-i7/\n",
      "getting page https://www.techspot.com/review/1822-geforce-gtx-970-vs-radeon-r9-290/\n",
      "getting page https://www.techspot.com/review/1790-viotek-gft27db/\n",
      "getting page https://www.techspot.com/review/1825-ryzen-2600x-vs-1700/\n",
      "getting page https://www.techspot.com/review/1800-anthem/\n",
      "getting page https://www.techspot.com/review/1798-gigabyte-aero-15-x9/\n",
      "getting page https://www.techspot.com/review/1820-alienware-m15/\n",
      "getting page https://www.techspot.com/review/1819-geforce-gtx-1660-vs-rtx-2060-vs-gtx-960/\n",
      "getting page https://www.techspot.com/review/1816-asrock-deskmini-a300/\n",
      "getting page https://www.techspot.com/review/1796-best-rtx-2060-graphics-cards/\n",
      "getting page https://www.techspot.com/review/1797-nvidia-geforce-gtx-1060-ti/\n",
      "getting page https://www.techspot.com/review/1818-sekiro-shadows-die-twice/\n",
      "getting page https://www.techspot.com/review/1795-metro-exodus-benchmarks/\n",
      "getting page https://www.techspot.com/review/1806-apex-legends/\n",
      "getting page https://www.techspot.com/review/1808-geforce-gtx-1660-ti-vs-rtx-2060-vs-gtx-980-ti/\n",
      "getting page https://www.techspot.com/review/1783-razer-blade-stealth-2019/\n",
      "getting page https://www.techspot.com/review/1804-geforce-rtx-2060-laptop/\n",
      "getting page https://www.techspot.com/review/817-das-keyboard-4-professional/\n",
      "getting page https://www.techspot.com/review/1688-das-keyboard-5q-and-x50q/\n",
      "getting page https://www.techspot.com/review/1825-ryzen-2600x-vs-1700/\n",
      "getting page https://www.techspot.com/review/1825-ryzen-2600x-vs-1700/#commentsOffset\n",
      "getting page https://www.techspot.com/review/1240-das-keyboard-prime-13/\n",
      "getting page https://www.techspot.com/review/1411-radeon-rx-570-vs-geforce-gtx-1060-3gb/\n",
      "getting page https://www.techspot.com/review/1660-geforce-gtx-1060-3gb-vs-radeon-rx-570-4gb/\n",
      "getting page https://www.techspot.com/review/1716-forza-horizon-4-gpu-benchmarks/\n",
      "getting page https://www.techspot.com/review/1701-geforce-rtx-2080/\n",
      "getting page https://www.techspot.com/review/1762-just-cause-4-benchmarks/\n",
      "getting page https://www.techspot.com/review/1269-nvidia-geforce-gtx-1050/\n",
      "getting page https://www.techspot.com/review/1825-ryzen-2600x-vs-1700/\n",
      "getting page https://www.techspot.com/review/1825-ryzen-2600x-vs-1700/#commentsOffset\n",
      "getting page https://www.techspot.com/review/1701-geforce-rtx-2080/\n",
      "getting page https://www.techspot.com/review/1780-geforce-1060-vs-radeon-580-vs-radeon-570/\n",
      "getting page https://www.techspot.com/review/1781-geforce-rtx-2060-mega-benchmark/\n"
     ]
    }
   ],
   "source": [
    "crawler_hardware.crawl()"
   ]
  }
 ],
 "metadata": {
  "kernelspec": {
   "display_name": "Python 3",
   "language": "python",
   "name": "python3"
  },
  "language_info": {
   "codemirror_mode": {
    "name": "ipython",
    "version": 3
   },
   "file_extension": ".py",
   "mimetype": "text/x-python",
   "name": "python",
   "nbconvert_exporter": "python",
   "pygments_lexer": "ipython3",
   "version": "3.6.7"
  }
 },
 "nbformat": 4,
 "nbformat_minor": 2
}
