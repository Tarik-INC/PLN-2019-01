{
 "cells": [
  {
   "cell_type": "code",
   "execution_count": 1,
   "metadata": {},
   "outputs": [],
   "source": [
    "import urllib3\n",
    "import re\n",
    "from bs4 import BeautifulSoup\n",
    "import os\n",
    "import justext"
   ]
  },
  {
   "cell_type": "code",
   "execution_count": 2,
   "metadata": {},
   "outputs": [],
   "source": [
    "urllib3.disable_warnings(urllib3.exceptions.InsecureRequestWarning)\n",
    "user_agent = {'user-agent': 'Mozilla/5.0 (Windows NT 6.1; Win64; x64)'}\n",
    "\n",
    "http = urllib3.PoolManager(10, headers=user_agent)\n",
    "\n",
    "\n",
    "class Crawler:\n",
    "    \n",
    "    def __init__(self, corpus_path, max_files, seed_url, url_pattern):\n",
    "        self.corpus_path = corpus_path\n",
    "        self.max_files = max_files\n",
    "        self.seed_url = seed_url\n",
    "        self.url_pattern = url_pattern\n",
    "        self.visited_links = {}\n",
    "        self.to_be_visited = []\n",
    "        \n",
    "        if not os.path.exists(self.corpus_path):\n",
    "            os.makedirs(self.corpus_path)\n",
    "        \n",
    "    def crawl(self):\n",
    "        first_urls = self.get_page(self.seed_url)\n",
    "        self.add_links(first_urls)\n",
    "        next_link = self.get_next_link()\n",
    "        \n",
    "        file_counter = 1\n",
    "        while next_link and file_counter < self.max_files:\n",
    "            links = self.get_page(next_link)\n",
    "            self.add_links(links)\n",
    "            next_link = self.get_next_link()\n",
    "            file_counter += 1\n",
    "    \n",
    "    def get_page(self, url):\n",
    "        print(\"getting page {}\".format(url))\n",
    "        response = http.request('GET', url)\n",
    "\n",
    "        # store text content\n",
    "        paragraphs = justext.justext(response.data, justext.get_stoplist(\"Portuguese\"))\n",
    "        with open(\"{}/{}.txt\".format(self.corpus_path, url.replace(\".\", \"_\").replace(\"/\",\"-\")), \"w\") as output_file:\n",
    "            for paragraph in paragraphs:\n",
    "                if not paragraph.is_boilerplate:\n",
    "                    output_file.write(paragraph.text)\n",
    "        \n",
    "        # get links\n",
    "        soup = BeautifulSoup(response.data, 'html.parser')\n",
    "        links = [link.get('href') for link in soup.findAll('a', attrs={'href': re.compile(self.url_pattern)})]\n",
    "\n",
    "        return links\n",
    "\n",
    "    def add_links(self, links):\n",
    "        links = list(set(links))\n",
    "        self.to_be_visited.extend([link for link in links if link not in self.visited_links])\n",
    "\n",
    "    def get_next_link(self):\n",
    "        next_link = self.to_be_visited.pop(0)\n",
    "        self.visited_links[next_link] = None\n",
    "        return next_link"
   ]
  },
  {
   "cell_type": "code",
   "execution_count": 3,
   "metadata": {},
   "outputs": [],
   "source": [
    "crawler_tecnologia = Crawler(\"data/corpora/tecnologia\", 50, \"https://tecnoblog.net/281950/\", \"^https://tecnoblog\\.net/\\d+\")\n",
    "crawler_politica = Crawler(\"data/corpora/politica\", 50, \"http://blogs.opovo.com.br/politica/\",\n",
    "                           \"^http://blogs\\.opovo\\.com\\.br/politica/\\d+\")"
   ]
  },
  {
   "cell_type": "code",
   "execution_count": 4,
   "metadata": {
    "scrolled": true
   },
   "outputs": [
    {
     "name": "stdout",
     "output_type": "stream",
     "text": [
      "getting page http://blogs.opovo.com.br/politica/\n",
      "getting page http://blogs.opovo.com.br/politica/2019/04/09/projeto-regula-jogos-eletronicos-como-esporte-e-gamers-como-atletas/#respond\n",
      "getting page http://blogs.opovo.com.br/politica/2019/04/09/deputado-cearense-quer-convocar-novo-ministro-da-educacao-para-prestar-esclarecimentos/\n",
      "getting page http://blogs.opovo.com.br/politica/2019/04/08/quem-e-o-novo-ministro-da-educacao-de-jair-bolsonaro/#respond\n",
      "getting page http://blogs.opovo.com.br/politica/2019/04/06/decisao-de-retirar-maracanau-de-programa-foi-de-moro-diz-deputado/#respond\n",
      "getting page http://blogs.opovo.com.br/politica/2019/04/04/sergio-moro-posta-selfie-com-calendario-no-twitter-par-provar-que-perfil-e-verdadeiro/#respond\n",
      "getting page http://blogs.opovo.com.br/politica/2019/04/09/deputado-cearense-quer-convocar-novo-ministro-da-educacao-para-prestar-esclarecimentos/#respond\n",
      "getting page http://blogs.opovo.com.br/politica/2019/04/08/quem-e-o-novo-ministro-da-educacao-de-jair-bolsonaro/\n",
      "getting page http://blogs.opovo.com.br/politica/2019/04/03/fraca-timida-e-opaca-diz-guimaraes-sobre-atuacao-de-guedes-na-ccjc/#respond\n",
      "getting page http://blogs.opovo.com.br/politica/2019/04/04/sergio-moro-posta-selfie-com-calendario-no-twitter-par-provar-que-perfil-e-verdadeiro/\n",
      "getting page http://blogs.opovo.com.br/politica/2019/04/09/projeto-regula-jogos-eletronicos-como-esporte-e-gamers-como-atletas/\n",
      "getting page http://blogs.opovo.com.br/politica/2019/04/08/analise-escolha-de-olavista-para-o-mec-pode-ampliar-desgaste-com-militares/\n",
      "getting page http://blogs.opovo.com.br/politica/2019/04/08/bolsonaro-demite-ministro-da-educacao-e-anuncia-substituto/\n",
      "getting page http://blogs.opovo.com.br/politica/2019/04/06/decisao-de-retirar-maracanau-de-programa-foi-de-moro-diz-deputado/\n",
      "getting page http://blogs.opovo.com.br/politica/2019/04/03/em-israel-bolsonaro-critica-leis-de-desarmamento-conheca-a-legislacao-a-respeito-israelense-sobre-posse-e-porte/\n",
      "getting page http://blogs.opovo.com.br/politica/2019/04/08/analise-escolha-de-olavista-para-o-mec-pode-ampliar-desgaste-com-militares/#respond\n",
      "getting page http://blogs.opovo.com.br/politica/2019/04/03/guedes-diz-que-quem-discorda-da-necessidade-da-reforma-da-previdencia-tem-que-ser-internado/\n",
      "getting page http://blogs.opovo.com.br/politica/2019/04/08/bolsonaro-demite-ministro-da-educacao-e-anuncia-substituto/#respond\n",
      "getting page http://blogs.opovo.com.br/politica/2019/04/03/guedes-diz-que-quem-discorda-da-necessidade-da-reforma-da-previdencia-tem-que-ser-internado/#respond\n",
      "getting page http://blogs.opovo.com.br/politica/2019/04/03/em-israel-bolsonaro-critica-leis-de-desarmamento-conheca-a-legislacao-a-respeito-israelense-sobre-posse-e-porte/#respond\n",
      "getting page http://blogs.opovo.com.br/politica/2019/04/03/fraca-timida-e-opaca-diz-guimaraes-sobre-atuacao-de-guedes-na-ccjc/\n",
      "getting page http://blogs.opovo.com.br/politica/2017/10/06/capitao-wagner-volta-atras-com-projeto-que-proibe-venda-de-armas-de-brinquedo/\n",
      "getting page http://blogs.opovo.com.br/politica/2019/04/09/deputado-cearense-quer-convocar-novo-ministro-da-educacao-para-prestar-esclarecimentos/#respond\n",
      "getting page http://blogs.opovo.com.br/politica/2019/04/08/analise-escolha-de-olavista-para-o-mec-pode-ampliar-desgaste-com-militares/\n",
      "getting page http://blogs.opovo.com.br/politica/2019/04/08/bolsonaro-demite-ministro-da-educacao-e-anuncia-substituto/\n",
      "getting page http://blogs.opovo.com.br/politica/2019/04/08/quem-e-o-novo-ministro-da-educacao-de-jair-bolsonaro/\n",
      "getting page http://blogs.opovo.com.br/politica/2019/03/28/deputada-confirma-que-maracanau-recebera-projeto-de-moro-governo-nega/\n",
      "getting page http://blogs.opovo.com.br/politica/2018/11/30/em-carta-lula-diz-que-bolsonaro-fez-campanha-mentirosas-e-ataca-moro/\n",
      "getting page http://blogs.opovo.com.br/politica/2019/03/06/deputado-cearense-andre-fernandes-chama-kim-kataguiri-de-covarde-em-discussao-sobre-video-obsceno-compartilhado-por-bolsonaro/\n",
      "getting page http://blogs.opovo.com.br/politica/2019/04/08/analise-escolha-de-olavista-para-o-mec-pode-ampliar-desgaste-com-militares/\n",
      "getting page http://blogs.opovo.com.br/politica/2019/04/08/bolsonaro-demite-ministro-da-educacao-e-anuncia-substituto/\n",
      "getting page http://blogs.opovo.com.br/politica/2019/04/08/quem-e-o-novo-ministro-da-educacao-de-jair-bolsonaro/\n",
      "getting page http://blogs.opovo.com.br/politica/2019/04/03/fraca-timida-e-opaca-diz-guimaraes-sobre-atuacao-de-guedes-na-ccjc/#comment-32616\n",
      "getting page http://blogs.opovo.com.br/politica/2019/04/02/nove-cearenses-sao-deputados-por-outros-estados-veja-quem-sao/\n",
      "getting page http://blogs.opovo.com.br/politica/2019/04/03/fraca-timida-e-opaca-diz-guimaraes-sobre-atuacao-de-guedes-na-ccjc/#comment-32619\n",
      "getting page http://blogs.opovo.com.br/politica/2019/04/03/fraca-timida-e-opaca-diz-guimaraes-sobre-atuacao-de-guedes-na-ccjc/#comment-32612\n",
      "getting page http://blogs.opovo.com.br/politica/2019/04/03/fraca-timida-e-opaca-diz-guimaraes-sobre-atuacao-de-guedes-na-ccjc/#comment-32620\n",
      "getting page http://blogs.opovo.com.br/politica/2019/04/03/fraca-timida-e-opaca-diz-guimaraes-sobre-atuacao-de-guedes-na-ccjc/#comment-32632\n",
      "getting page http://blogs.opovo.com.br/politica/2017/10/19/cearenses-votam-favor-de-temer-na-ccj/\n",
      "getting page http://blogs.opovo.com.br/politica/2019/04/03/fraca-timida-e-opaca-diz-guimaraes-sobre-atuacao-de-guedes-na-ccjc/#comment-32622\n",
      "getting page http://blogs.opovo.com.br/politica/2019/04/03/fraca-timida-e-opaca-diz-guimaraes-sobre-atuacao-de-guedes-na-ccjc/#comment-32626\n",
      "getting page http://blogs.opovo.com.br/politica/2019/04/03/fraca-timida-e-opaca-diz-guimaraes-sobre-atuacao-de-guedes-na-ccjc/#comment-32615\n",
      "getting page http://blogs.opovo.com.br/politica/2019/04/03/fraca-timida-e-opaca-diz-guimaraes-sobre-atuacao-de-guedes-na-ccjc/#comment-32625\n",
      "getting page http://blogs.opovo.com.br/politica/2017/11/22/revogacao-estatuto-desarmamento/\n",
      "getting page http://blogs.opovo.com.br/politica/2019/04/03/fraca-timida-e-opaca-diz-guimaraes-sobre-atuacao-de-guedes-na-ccjc/#comment-32617\n",
      "getting page http://blogs.opovo.com.br/politica/2019/04/03/fraca-timida-e-opaca-diz-guimaraes-sobre-atuacao-de-guedes-na-ccjc/#comment-32623\n",
      "getting page http://blogs.opovo.com.br/politica/2019/04/03/guedes-diz-que-quem-discorda-da-necessidade-da-reforma-da-previdencia-tem-que-ser-internado/\n",
      "getting page http://blogs.opovo.com.br/politica/2019/04/03/fraca-timida-e-opaca-diz-guimaraes-sobre-atuacao-de-guedes-na-ccjc/#comment-32614\n",
      "getting page http://blogs.opovo.com.br/politica/2019/04/03/fraca-timida-e-opaca-diz-guimaraes-sobre-atuacao-de-guedes-na-ccjc/#comment-32621\n",
      "getting page http://blogs.opovo.com.br/politica/2019/04/03/fraca-timida-e-opaca-diz-guimaraes-sobre-atuacao-de-guedes-na-ccjc/#comment-32629\n"
     ]
    }
   ],
   "source": [
    "crawler_politica.crawl()"
   ]
  },
  {
   "cell_type": "code",
   "execution_count": 39,
   "metadata": {},
   "outputs": [],
   "source": [
    "crawler_hardware = Crawler(\"data/corpora/hardware\", 50, \"https://www.techspot.com/reviews/\", \"^https://www.techspot\\.com/review/\\d+\")"
   ]
  },
  {
   "cell_type": "code",
   "execution_count": 40,
   "metadata": {},
   "outputs": [
    {
     "name": "stdout",
     "output_type": "stream",
     "text": [
      "getting page https://www.techspot.com/reviews/\n",
      "getting page https://www.techspot.com/review/1782-intel-whiskey-lake-core-i7/\n",
      "getting page https://www.techspot.com/review/1799-geforce-gtx-1660-mega-benchmark/\n",
      "getting page https://www.techspot.com/review/1797-nvidia-geforce-gtx-1060-ti/\n",
      "getting page https://www.techspot.com/review/1807-asus-rog-strix-scar2-rtx-laptop/\n",
      "getting page https://www.techspot.com/review/1816-asrock-deskmini-a300/\n",
      "getting page https://www.techspot.com/review/1817-asus-zenbook-pro-14/\n",
      "getting page https://www.techspot.com/review/1777-geforce-1050ti-vs-radeon-570/\n",
      "getting page https://www.techspot.com/review/1795-metro-exodus-benchmarks/\n",
      "getting page https://www.techspot.com/review/1789-amd-radeon-vii/\n",
      "getting page https://www.techspot.com/review/1808-geforce-gtx-1660-ti-vs-rtx-2060-vs-gtx-980-ti/\n",
      "getting page https://www.techspot.com/review/1812-geforce-rtx-2080-max-q-laptop/\n",
      "getting page https://www.techspot.com/review/1796-best-rtx-2060-graphics-cards/\n",
      "getting page https://www.techspot.com/review/1818-sekiro-shadows-die-twice/\n",
      "getting page https://www.techspot.com/review/1819-geforce-gtx-1660-vs-rtx-2060-vs-gtx-960/\n",
      "getting page https://www.techspot.com/review/1790-viotek-gft27db/\n",
      "getting page https://www.techspot.com/review/1781-geforce-rtx-2060-mega-benchmark/\n",
      "getting page https://www.techspot.com/review/1792-geforce-rtx-2070-max-q-laptop/\n",
      "getting page https://www.techspot.com/review/1804-geforce-rtx-2060-laptop/\n",
      "getting page https://www.techspot.com/review/1798-gigabyte-aero-15-x9/\n",
      "getting page https://www.techspot.com/review/1815-msi-gs75-stealth/\n",
      "getting page https://www.techspot.com/review/1800-anthem/\n",
      "getting page https://www.techspot.com/review/1823-fortnite-battle-royale/\n",
      "getting page https://www.techspot.com/review/1822-geforce-gtx-970-vs-radeon-r9-290/\n",
      "getting page https://www.techspot.com/review/1730-intel-core-i9-9900k-core-i7-9700k/\n",
      "getting page https://www.techspot.com/review/1784-resident-evil-2-benchmarks/\n",
      "getting page https://www.techspot.com/review/1806-apex-legends/\n",
      "getting page https://www.techspot.com/review/1813-geforce-gtx-1660-mega-benchmark/\n",
      "getting page https://www.techspot.com/review/1783-razer-blade-stealth-2019/\n",
      "getting page https://www.techspot.com/review/1811-nvidia-geforce-gtx-1060/\n",
      "getting page https://www.techspot.com/review/1791-amd-radeon-vii-mega-benchmark/\n",
      "getting page https://www.techspot.com/review/1776-das-keyboard-4q/\n",
      "getting page https://www.techspot.com/review/1820-alienware-m15/\n",
      "getting page https://www.techspot.com/review/1822-geforce-gtx-970-vs-radeon-r9-290/\n",
      "getting page https://www.techspot.com/review/1823-fortnite-battle-royale/\n",
      "getting page https://www.techspot.com/review/1476-amd-radeon-vega-64/\n",
      "getting page https://www.techspot.com/review/1789-amd-radeon-vii/\n",
      "getting page https://www.techspot.com/review/1797-nvidia-geforce-gtx-1060-ti/\n",
      "getting page https://www.techspot.com/review/1823-fortnite-battle-royale/\n",
      "getting page https://www.techspot.com/review/1822-geforce-gtx-970-vs-radeon-r9-290/\n",
      "getting page https://www.techspot.com/review/1795-metro-exodus-benchmarks/\n",
      "getting page https://www.techspot.com/review/1727-nvidia-geforce-rtx-2070/\n",
      "getting page https://www.techspot.com/review/1182-nvidia-geforce-gtx-1070/\n",
      "getting page https://www.techspot.com/review/1823-fortnite-battle-royale/\n",
      "getting page https://www.techspot.com/review/1791-amd-radeon-vii-mega-benchmark/\n",
      "getting page https://www.techspot.com/review/1747-amd-radeon-rx-590/\n",
      "getting page https://www.techspot.com/review/1822-geforce-gtx-970-vs-radeon-r9-290/\n",
      "getting page https://www.techspot.com/review/1781-geforce-rtx-2060-mega-benchmark/\n",
      "getting page https://www.techspot.com/review/1701-geforce-rtx-2080/\n",
      "getting page https://www.techspot.com/review/1780-geforce-1060-vs-radeon-580-vs-radeon-570/\n"
     ]
    }
   ],
   "source": [
    "crawler_hardware.crawl()"
   ]
  }
 ],
 "metadata": {
  "kernelspec": {
   "display_name": "Python 3",
   "language": "python",
   "name": "python3"
  },
  "language_info": {
   "codemirror_mode": {
    "name": "ipython",
    "version": 3
   },
   "file_extension": ".py",
   "mimetype": "text/x-python",
   "name": "python",
   "nbconvert_exporter": "python",
   "pygments_lexer": "ipython3",
   "version": "3.7.3"
  }
 },
 "nbformat": 4,
 "nbformat_minor": 2
}
